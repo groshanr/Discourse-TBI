{
 "cells": [
  {
   "cell_type": "code",
   "execution_count": null,
   "metadata": {},
   "outputs": [],
   "source": [
    "import os\n",
    "import pandas as pd\n",
    "import numpy as np\n",
    "import re"
   ]
  },
  {
   "cell_type": "code",
   "execution_count": 152,
   "metadata": {},
   "outputs": [],
   "source": [
    "directory = 'TBIBank/Coelho'\n",
    "coelho_files = []\n",
    "\n",
    "for root, dirs, files in os.walk(directory):\n",
    "\tfor filename in files:\n",
    "\t\tcoelho_files.append(os.path.join(root, filename))\n",
    "\n",
    "for file in coelho_files:\n",
    "\tif file.endswith('.chstr.cex'):\n",
    "\t\tf = open(file, 'r')\n",
    "\t\tfor line in f:\n",
    "\t\t\tif line.strip() == '@G:\tBears':\n",
    "\t\t\t\tfor line in f:\n",
    "\t\t\t\t\tif line.startswith('*PAR'):\n",
    "\t\t\t\t\t\tline = line.replace('*PAR:', '')\n",
    "\t\t\t\t\t\tline = re.sub('\\d_\\d', '', line)\n",
    "\t\t\t\t\t\taug = open(\"{}.txt\".format(file), 'a')\n",
    "\t\t\t\t\t\taug.write(line)\n",
    "\t\t\t\t\telif line.startswith('@G'):\n",
    "\t\t\t\t\t\tbreak\n"
   ]
  },
  {
   "cell_type": "code",
   "execution_count": 157,
   "metadata": {},
   "outputs": [],
   "source": [
    "baseline_files = []\n",
    "for file in coelho_files:\n",
    "    if \"Lin\" not in file:\n",
    "        if  \"results\" not in file:\n",
    "            if \".DS_Store\" not in file:\n",
    "                baseline_files.append(file)\n"
   ]
  },
  {
   "cell_type": "code",
   "execution_count": null,
   "metadata": {},
   "outputs": [],
   "source": [
    "# These files could not be parsed by the Lin model, so we removed them from consideration from the baseline model \n",
    "excl_files = ['TBIBank/Coelho/N/n06.chstr.cex.txt', 'TBIBank/Coelho/N/n07.chstr.cex.txt', 'TBIBank/Coelho/N/n09.chstr.cex.txt',\n",
    "              'TBIBank/Coelho/N/n11.chstr.cex.txt','TBIBank/Coelho/N/n20.chstr.cex.txt', 'TBIBank/Coelho/N/n26.chstr.cex.txt',\n",
    "              'TBIBank/Coelho/N/n37.chstr.cex.txt', 'TBIBank/Coelho/N/n39.chstr.cex.txt', 'TBIBank/Coelho/N/n41.chstr.cex.txt',\n",
    "              'TBIBank/Coelho/N/n44.chstr.cex.txt', 'TBIBank/Coelho/N/n46.chstr.cex.txt', 'TBIBank/Coelho/N/n47.chstr.cex.txt',\n",
    "              'TBIBank/Coelho/TB/tb03.chstr.cex.txt', 'TBIBank/Coelho/TB/tb04.chstr.cex.txt', 'TBIBank/Coelho/TB/tb09.chstr.cex.txt',\n",
    "              'TBIBank/Coelho/TB/tb12.chstr.cex.txt', 'TBIBank/Coelho/TB/tb14.chstr.cex.txt', 'TBIBank/Coelho/TB/tb17.chstr.cex.txt',\n",
    "              'TBIBank/Coelho/TB/tb18.chstr.cex.txt', 'TBIBank/Coelho/TB/tb23.chstr.cex.txt', 'TBIBank/Coelho/TB/tb25.chstr.cex.txt',\n",
    "              'TBIBank/Coelho/TB/tb29.chstr.cex.txt', 'TBIBank/Coelho/TB/tb33.chstr.cex.txt', 'TBIBank/Coelho/TB/tb36.chstr.cex.txt',\n",
    "              'TBIBank/Coelho/TB/tb37.chstr.cex.txt', 'TBIBank/Coelho/TB/tb39.chstr.cex.txt', 'TBIBank/Coelho/TB/tb44.chstr.cex.txt',\n",
    "              'TBIBank/Coelho/TB/tb45.chstr.cex.txt', 'TBIBank/Coelho/TB/tb47.chstr.cex.txt', 'TBIBank/Coelho/TB/tb49.chstr.cex.txt',\n",
    "              'TBIBank/Coelho/TB/tb51.chstr.cex.txt']"
   ]
  },
  {
   "cell_type": "code",
   "execution_count": 159,
   "metadata": {},
   "outputs": [],
   "source": [
    "for e in excl_files:\n",
    "    baseline_files.remove(e)"
   ]
  },
  {
   "cell_type": "code",
   "execution_count": 160,
   "metadata": {},
   "outputs": [],
   "source": [
    "b_data = []\n",
    "\n",
    "for b in baseline_files:\n",
    "    text = []\n",
    "    if \"/TB/\" in b:\n",
    "        label = \"TBI\"\n",
    "    elif \"/N/\" in b:\n",
    "        label = \"Healthy\"\n",
    "    f = open(b, 'r')\n",
    "    for line in f.readlines():\n",
    "        line = line.strip()\n",
    "        text.append(line)\n",
    "    text = ''.join(text)\n",
    "    b_data.append([text, label])\n"
   ]
  },
  {
   "cell_type": "code",
   "execution_count": null,
   "metadata": {},
   "outputs": [],
   "source": [
    "baseline_df = pd.DataFrame(b_data, columns = ['text', 'labels'])"
   ]
  },
  {
   "cell_type": "code",
   "execution_count": 162,
   "metadata": {},
   "outputs": [],
   "source": [
    "baseline_df.to_csv('baseline.csv')"
   ]
  }
 ],
 "metadata": {
  "kernelspec": {
   "display_name": "discoursetbi",
   "language": "python",
   "name": "python3"
  },
  "language_info": {
   "codemirror_mode": {
    "name": "ipython",
    "version": 3
   },
   "file_extension": ".py",
   "mimetype": "text/x-python",
   "name": "python",
   "nbconvert_exporter": "python",
   "pygments_lexer": "ipython3",
   "version": "3.9.20"
  }
 },
 "nbformat": 4,
 "nbformat_minor": 2
}
