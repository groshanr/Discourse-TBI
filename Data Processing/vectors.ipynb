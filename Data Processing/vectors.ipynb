{
 "cells": [
  {
   "cell_type": "code",
   "execution_count": 15,
   "metadata": {},
   "outputs": [],
   "source": [
    "import json\n",
    "import os\n",
    "import string\n",
    "import pandas as pd\n",
    "import re"
   ]
  },
  {
   "cell_type": "code",
   "execution_count": 16,
   "metadata": {},
   "outputs": [],
   "source": [
    "vectors = pd.DataFrame()"
   ]
  },
  {
   "cell_type": "code",
   "execution_count": 18,
   "metadata": {},
   "outputs": [],
   "source": [
    "coelho_files = []\n",
    "for root, dirs, files in os.walk('TBIBank/Coelho'):\n",
    "    for filename in files:\n",
    "        if filename.endswith('txt'):\n",
    "            coelho_files.append(os.path.join(root, filename))"
   ]
  },
  {
   "cell_type": "code",
   "execution_count": 19,
   "metadata": {},
   "outputs": [],
   "source": [
    "for file in coelho_files:\n",
    "    if 'N/Lin' in file:\n",
    "        senses = {}\n",
    "        baseline_text = []\n",
    "        file_match = re.search('n[0-9]{2}', file)\n",
    "        f = open(f'TBIBank/Coelho/N/{file_match.group(0)}.chstr.cex.txt', 'r')\n",
    "        for line in f.readlines():\n",
    "            line = line.strip()\n",
    "            baseline_text.append(line)\n",
    "        baseline_text = ''.join(baseline_text)\n",
    "        senses['text'] = baseline_text\n",
    "        senses['labels'] = 'Healthy'\n",
    "        with open(file, 'r') as f:   \n",
    "            text = json.load(f)\n",
    "            for relation in text['relations']:\n",
    "                sense_type = str(relation['Type'])\n",
    "                if sense_type in senses:\n",
    "                    senses[sense_type] += 1\n",
    "                elif sense_type not in senses:\n",
    "                    senses[sense_type] = 0\n",
    "                sense = str(relation['Sense'])\n",
    "                sense = sense.translate(str.maketrans('', '', string.punctuation))\n",
    "                if sense in senses:\n",
    "                    senses[sense] +=1\n",
    "                elif sense not in senses:\n",
    "                    senses[sense] = 0\n",
    "                \n",
    "        sense_df = pd.DataFrame.from_dict([senses])\n",
    "        vectors = pd.concat([vectors, sense_df], ignore_index=True)\n",
    "\n",
    "    elif 'TB/Lin' in file:\n",
    "        senses = {}\n",
    "        baseline_text = []\n",
    "        file_match = re.search('tb[0-9]{2}', file)\n",
    "        f = open(f'TBIBank/Coelho/TB/{file_match.group(0)}.chstr.cex.txt', 'r')\n",
    "        for line in f.readlines():\n",
    "            line = line.strip()\n",
    "            baseline_text.append(line)\n",
    "        baseline_text = ''.join(baseline_text)\n",
    "        senses['text'] = baseline_text\n",
    "        senses['labels'] = 'TBI'\n",
    "        with open(file, 'r') as f:   \n",
    "            text = json.load(f)\n",
    "            for relation in text['relations']:\n",
    "                sense_type = str(relation['Type'])\n",
    "                if sense_type in senses:\n",
    "                    senses[sense_type] += 1\n",
    "                elif sense_type not in senses:\n",
    "                    senses[sense_type] = 0\n",
    "                sense = str(relation['Sense'])\n",
    "                sense = sense.translate(str.maketrans('', '', string.punctuation))\n",
    "                if sense in senses:\n",
    "                    senses[sense] +=1\n",
    "                elif sense not in senses:\n",
    "                    senses[sense] = 0\n",
    "                \n",
    "        sense_df = pd.DataFrame.from_dict([senses])\n",
    "        vectors = pd.concat([vectors, sense_df], ignore_index=True)"
   ]
  },
  {
   "cell_type": "code",
   "execution_count": 22,
   "metadata": {},
   "outputs": [],
   "source": [
    "vectors = vectors.rename(columns={'':'Null'})"
   ]
  },
  {
   "cell_type": "code",
   "execution_count": 23,
   "metadata": {},
   "outputs": [],
   "source": [
    "vectors = vectors.fillna(0)"
   ]
  },
  {
   "cell_type": "code",
   "execution_count": 24,
   "metadata": {},
   "outputs": [],
   "source": [
    "vectors['ExpansionConjunction'] = vectors['ExpansionConjunction'].astype('Int64')\n",
    "vectors['ComparisonConcession'] = vectors['ComparisonConcession'].astype('Int64')\n",
    "vectors['ContingencyCauseResult'] = vectors['ContingencyCauseResult'].astype('Int64')\n",
    "vectors['ComparisonContrast'] = vectors['ComparisonContrast'].astype('Int64')\n",
    "vectors['ExpansionRestatement'] = vectors['ExpansionRestatement'].astype('Int64')\t\n",
    "vectors['EntRel'] = vectors['EntRel'].astype('Int64')\n",
    "vectors['ContingencyCauseReason'] = vectors['ContingencyCauseReason'].astype('Int64')\n",
    "vectors['ContingencyCondition']= vectors['ContingencyCondition'].astype('Int64')\n",
    "vectors['Null']= vectors['Null'].astype('Int64')\n",
    "vectors['Explicit']= vectors['Explicit'].astype('Int64')\n",
    "vectors['Implicit']= vectors['Implicit'].astype('Int64')"
   ]
  },
  {
   "cell_type": "code",
   "execution_count": 26,
   "metadata": {},
   "outputs": [],
   "source": [
    "vectors.to_csv('lin.csv')"
   ]
  }
 ],
 "metadata": {
  "kernelspec": {
   "display_name": "discoursetbi",
   "language": "python",
   "name": "python3"
  },
  "language_info": {
   "codemirror_mode": {
    "name": "ipython",
    "version": 3
   },
   "file_extension": ".py",
   "mimetype": "text/x-python",
   "name": "python",
   "nbconvert_exporter": "python",
   "pygments_lexer": "ipython3",
   "version": "3.9.20"
  }
 },
 "nbformat": 4,
 "nbformat_minor": 2
}
