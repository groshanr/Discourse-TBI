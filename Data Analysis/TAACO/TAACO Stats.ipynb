{
 "cells": [
  {
   "cell_type": "code",
   "execution_count": 8,
   "metadata": {},
   "outputs": [],
   "source": [
    "import numpy as np\n",
    "import pandas as pd\n",
    "from scipy.stats import pearsonr, ttest_ind"
   ]
  },
  {
   "cell_type": "code",
   "execution_count": 4,
   "metadata": {},
   "outputs": [],
   "source": [
    "# Read in analysis of control patients\n",
    "n_df = pd.read_csv('n_results.csv')\n",
    "n_df = n_df.mean(axis=0)"
   ]
  },
  {
   "cell_type": "code",
   "execution_count": 5,
   "metadata": {},
   "outputs": [],
   "source": [
    "# Read in analysis of TBI patients\n",
    "tb_df = pd.read_csv('tb_results.csv')\n",
    "tb_df = tb_df.mean(axis=0)"
   ]
  },
  {
   "cell_type": "code",
   "execution_count": 6,
   "metadata": {},
   "outputs": [],
   "source": [
    "# Combine dataframes\n",
    "compare_df = pd.DataFrame()\n",
    "compare_df['\\'Normal\\' Patients'] = n_df.iloc[:,]\n",
    "compare_df['TBI Patients'] = tb_df.iloc[:,]"
   ]
  },
  {
   "cell_type": "code",
   "execution_count": 7,
   "metadata": {},
   "outputs": [
    {
     "data": {
      "text/plain": [
       "PearsonRResult(statistic=np.float64(0.99871309557843), pvalue=np.float64(6.419873810429265e-47))"
      ]
     },
     "execution_count": 7,
     "metadata": {},
     "output_type": "execute_result"
    }
   ],
   "source": [
    "# Pearson coefficient value and p-value\n",
    "pearsonr(compare_df['\\'Normal\\' Patients'], compare_df['TBI Patients'])"
   ]
  },
  {
   "cell_type": "markdown",
   "metadata": {},
   "source": [
    "t tests by each category "
   ]
  },
  {
   "cell_type": "code",
   "execution_count": 9,
   "metadata": {},
   "outputs": [],
   "source": [
    "n_df = pd.read_csv('n_results.csv')\n",
    "tb_df = pd.read_csv('tb_results.csv')"
   ]
  },
  {
   "cell_type": "code",
   "execution_count": 10,
   "metadata": {},
   "outputs": [],
   "source": [
    "# Separate the first row and first column\n",
    "n_first_row = n_df.iloc[0, 1:]\n",
    "tb_first_row = tb_df.iloc[0, 1:]\n",
    "first_column = n_df.iloc[:, 0]"
   ]
  },
  {
   "cell_type": "code",
   "execution_count": 11,
   "metadata": {},
   "outputs": [],
   "source": [
    "# Exclude the first row and first column for t-test calculations\n",
    "n_df = n_df.iloc[1:, 1:].apply(pd.to_numeric, errors='coerce').dropna()\n",
    "tb_df = tb_df.iloc[1:, 1:].apply(pd.to_numeric, errors='coerce').dropna()"
   ]
  },
  {
   "cell_type": "code",
   "execution_count": 12,
   "metadata": {},
   "outputs": [],
   "source": [
    "# Ensure both dataframes have the same columns\n",
    "common_columns = n_df.columns.intersection(tb_df.columns)"
   ]
  },
  {
   "cell_type": "code",
   "execution_count": 13,
   "metadata": {},
   "outputs": [],
   "source": [
    "# Perform t-tests on each column independently\n",
    "t_test_results = {}\n",
    "for column in common_columns:\n",
    "    t_stat, p_value = ttest_ind(n_df[column], tb_df[column])\n",
    "    t_test_results[column] = {'t_stat': t_stat, 'p_value': p_value}"
   ]
  },
  {
   "cell_type": "code",
   "execution_count": 14,
   "metadata": {},
   "outputs": [],
   "source": [
    "# Create a results dataframe\n",
    "results_df = pd.DataFrame(t_test_results).T\n",
    "results_df['Control Mean'] = n_df.mean()\n",
    "results_df['TBI Mean'] = tb_df.mean()"
   ]
  },
  {
   "cell_type": "code",
   "execution_count": 15,
   "metadata": {},
   "outputs": [],
   "source": [
    "# Add the first row and first column back for readability\n",
    "results_df.loc['First Row'] = pd.Series(n_first_row)\n",
    "results_df['First Column'] = first_column"
   ]
  },
  {
   "cell_type": "code",
   "execution_count": 16,
   "metadata": {},
   "outputs": [
    {
     "name": "stdout",
     "output_type": "stream",
     "text": [
      "                                          t_stat   p_value  Control Mean  \\\n",
      "adjacent_overlap_all_sent_div_seg       0.203683  0.839032      0.664537   \n",
      "adjacent_overlap_binary_all_sent        0.612736  0.541500      0.355112   \n",
      "adjacent_overlap_cw_sent                0.098173  0.922000      0.065657   \n",
      "adjacent_overlap_cw_sent_div_seg        0.594227  0.553758      0.178970   \n",
      "adjacent_overlap_binary_cw_sent         0.701076  0.484951      0.146554   \n",
      "adjacent_overlap_verb_sent             -0.767472  0.444684      0.041052   \n",
      "adjacent_overlap_verb_sent_div_seg     -0.182984  0.855197      0.038559   \n",
      "adjacent_overlap_binary_verb_sent      -0.266203  0.790654      0.037754   \n",
      "adjacent_overlap_argument_sent         -0.747124  0.456815      0.097673   \n",
      "adjacent_overlap_argument_sent_div_seg -0.443436  0.658448      0.183893   \n",
      "adjacent_overlap_binary_argument_sent  -0.118908  0.905596      0.162511   \n",
      "basic_connectives                       0.738662  0.461914      0.076758   \n",
      "conjunctions                            0.146928  0.883497      0.066679   \n",
      "disjunctions                            0.907746  0.366286      0.002848   \n",
      "lexical_subordinators                   1.219531  0.225631      0.006436   \n",
      "coordinating_conjuncts                  1.316009  0.191305      0.007315   \n",
      "addition                               -0.026345  0.979037      0.080067   \n",
      "sentence_linking                       -0.872216  0.385267      0.020179   \n",
      "order                                  -1.017340  0.311549      0.016110   \n",
      "reason_and_purpose                      0.672569  0.502837      0.002863   \n",
      "all_causal                              1.300966  0.196384      0.008826   \n",
      "positive_causal                        -0.085253  0.932237      0.019396   \n",
      "opposition                             -0.313240  0.754778      0.004139   \n",
      "determiners                             2.749134  0.007140      0.134503   \n",
      "all_demonstratives                     -0.557821  0.578265      0.007916   \n",
      "attended_demonstratives                -0.490667  0.624782      0.002059   \n",
      "unattended_demonstratives              -0.429452  0.668557      0.005858   \n",
      "all_additive                            0.311032  0.756451      0.075598   \n",
      "all_logical                            -0.384409  0.701526      0.024342   \n",
      "positive_logical                       -0.129903  0.896915      0.019778   \n",
      "negative_logical                       -0.562189  0.575298      0.001860   \n",
      "all_temporal                           -0.693558  0.489634      0.019738   \n",
      "positive_intentional                    0.427775  0.669773      0.001977   \n",
      "all_positive                            0.316230  0.752515      0.097496   \n",
      "all_negative                            0.332164  0.740489      0.004799   \n",
      "all_connective                          0.216210  0.829283      0.096271   \n",
      "First Row                                    NaN       NaN           NaN   \n",
      "\n",
      "                                        TBI Mean  First Column  \n",
      "adjacent_overlap_all_sent_div_seg       0.649976           NaN  \n",
      "adjacent_overlap_binary_all_sent        0.336026           NaN  \n",
      "adjacent_overlap_cw_sent                0.064794           NaN  \n",
      "adjacent_overlap_cw_sent_div_seg        0.162078           NaN  \n",
      "adjacent_overlap_binary_cw_sent         0.131617           NaN  \n",
      "adjacent_overlap_verb_sent              0.048257           NaN  \n",
      "adjacent_overlap_verb_sent_div_seg      0.040195           NaN  \n",
      "adjacent_overlap_binary_verb_sent       0.040124           NaN  \n",
      "adjacent_overlap_argument_sent          0.108052           NaN  \n",
      "adjacent_overlap_argument_sent_div_seg  0.198750           NaN  \n",
      "adjacent_overlap_binary_argument_sent   0.165996           NaN  \n",
      "basic_connectives                       0.072605           NaN  \n",
      "conjunctions                            0.065883           NaN  \n",
      "disjunctions                            0.001969           NaN  \n",
      "lexical_subordinators                   0.004658           NaN  \n",
      "coordinating_conjuncts                  0.004932           NaN  \n",
      "addition                                0.080246           NaN  \n",
      "sentence_linking                        0.022668           NaN  \n",
      "order                                   0.018831           NaN  \n",
      "reason_and_purpose                      0.002114           NaN  \n",
      "all_causal                              0.006331           NaN  \n",
      "positive_causal                         0.019661           NaN  \n",
      "opposition                              0.004513           NaN  \n",
      "determiners                             0.117738           NaN  \n",
      "all_demonstratives                      0.009118           NaN  \n",
      "attended_demonstratives                 0.002524           NaN  \n",
      "unattended_demonstratives               0.006594           NaN  \n",
      "all_additive                            0.073851           NaN  \n",
      "all_logical                             0.025522           NaN  \n",
      "positive_logical                        0.020143           NaN  \n",
      "negative_logical                        0.002305           NaN  \n",
      "all_temporal                            0.021754           NaN  \n",
      "positive_intentional                    0.001612           NaN  \n",
      "all_positive                            0.095254           NaN  \n",
      "all_negative                            0.004372           NaN  \n",
      "all_connective                          0.094789           NaN  \n",
      "First Row                                    NaN           NaN  \n"
     ]
    }
   ],
   "source": [
    "print(results_df)"
   ]
  },
  {
   "cell_type": "code",
   "execution_count": 17,
   "metadata": {},
   "outputs": [],
   "source": [
    "results_df.to_csv('t_test_taaco.csv')"
   ]
  }
 ],
 "metadata": {
  "kernelspec": {
   "display_name": "Python 3",
   "language": "python",
   "name": "python3"
  },
  "language_info": {
   "codemirror_mode": {
    "name": "ipython",
    "version": 3
   },
   "file_extension": ".py",
   "mimetype": "text/x-python",
   "name": "python",
   "nbconvert_exporter": "python",
   "pygments_lexer": "ipython3",
   "version": "3.12.3"
  }
 },
 "nbformat": 4,
 "nbformat_minor": 2
}
