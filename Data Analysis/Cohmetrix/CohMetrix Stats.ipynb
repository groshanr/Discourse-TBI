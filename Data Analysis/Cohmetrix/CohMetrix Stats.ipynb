{
 "cells": [
  {
   "cell_type": "code",
   "execution_count": 49,
   "metadata": {},
   "outputs": [],
   "source": [
    "import numpy as np\n",
    "import pandas as pd\n",
    "import os as os\n",
    "from scipy.stats import pearsonr, ttest_ind"
   ]
  },
  {
   "cell_type": "code",
   "execution_count": 64,
   "metadata": {},
   "outputs": [],
   "source": [
    "# Read in analysis of control patients, skipping the first row and first column\n",
    "n_df = pd.read_csv('n_CM.csv')"
   ]
  },
  {
   "cell_type": "code",
   "execution_count": null,
   "metadata": {},
   "outputs": [],
   "source": [
    "# Convert all columns to numeric\n",
    "n_df = n_df.apply(pd.to_numeric, errors='coerce')\n",
    "\n",
    "# Calculate the mean, ignoring NaN values\n",
    "n_df = n_df.mean(axis=0)"
   ]
  },
  {
   "cell_type": "code",
   "execution_count": 65,
   "metadata": {},
   "outputs": [],
   "source": [
    "# Read in analysis of TBI patients\n",
    "tb_df = pd.read_csv('tb_CM.csv') "
   ]
  },
  {
   "cell_type": "code",
   "execution_count": null,
   "metadata": {},
   "outputs": [],
   "source": [
    "# Convert all columns to numeric\n",
    "tb_df = tb_df.apply(pd.to_numeric, errors='coerce')\n",
    "\n",
    "# Calculate the mean, ignoring NaN values\n",
    "tb_df = tb_df.mean(axis=0)"
   ]
  },
  {
   "cell_type": "code",
   "execution_count": 70,
   "metadata": {},
   "outputs": [],
   "source": [
    "# Ensure both dataframes have the same columns\n",
    "common_columns = n_df.index.intersection(tb_df.index)"
   ]
  },
  {
   "cell_type": "code",
   "execution_count": null,
   "metadata": {},
   "outputs": [],
   "source": [
    "t_test_results = {}\n",
    "for column in common_columns:\n",
    "    t_stat, p_value = ttest_ind(n_df[column], tb_df[column])\n",
    "    t_test_results[column] = {'t_stat': t_stat, 'p_value': p_value}"
   ]
  },
  {
   "cell_type": "code",
   "execution_count": 56,
   "metadata": {},
   "outputs": [],
   "source": [
    "for index, result in t_test_results.items():\n",
    "    print(f\"Column: {index}, t-statistic: {result['t_stat']}, p-value: {result['p_value']}\")"
   ]
  },
  {
   "cell_type": "markdown",
   "metadata": {},
   "source": [
    "Actually comparing TB and N by column, formatted in a readable way"
   ]
  },
  {
   "cell_type": "code",
   "execution_count": null,
   "metadata": {},
   "outputs": [],
   "source": [
    "# Read the CSV files without skipping any rows or columns\n",
    "n_df = pd.read_csv('n_CM.csv')\n",
    "tb_df = pd.read_csv('tb_CM.csv')\n",
    "\n",
    "# Separate the first row and first column\n",
    "n_first_row = n_df.iloc[0, 1:]\n",
    "tb_first_row = tb_df.iloc[0, 1:]\n",
    "first_column = n_df.iloc[:, 0]\n",
    "\n",
    "# Exclude the first row and first column for t-test calculations\n",
    "n_df = n_df.iloc[1:, 1:].apply(pd.to_numeric, errors='coerce').dropna()\n",
    "tb_df = tb_df.iloc[1:, 1:].apply(pd.to_numeric, errors='coerce').dropna()\n",
    "\n",
    "# Ensure both dataframes have the same columns\n",
    "common_columns = n_df.columns.intersection(tb_df.columns)\n",
    "\n",
    "# Perform t-tests on each column independently\n",
    "t_test_results = {}\n",
    "for column in common_columns:\n",
    "    t_stat, p_value = ttest_ind(n_df[column], tb_df[column])\n",
    "    t_test_results[column] = {'t_stat': t_stat, 'p_value': p_value}\n",
    "\n",
    "# Create a results dataframe for readability\n",
    "results_df = pd.DataFrame(t_test_results).T\n",
    "results_df['Control Mean'] = n_df.mean()\n",
    "results_df['TBI Mean'] = tb_df.mean()\n",
    "\n",
    "# Add the first row and first column back for readability\n",
    "results_df.loc['First Row'] = pd.Series(n_first_row)\n",
    "results_df['First Column'] = first_column\n",
    "\n",
    "# Print the results\n",
    "print(results_df)"
   ]
  },
  {
   "cell_type": "code",
   "execution_count": 75,
   "metadata": {},
   "outputs": [],
   "source": [
    "results_df.to_csv('t_test_results.csv')"
   ]
  },
  {
   "cell_type": "markdown",
   "metadata": {},
   "source": [
    "t test comparing the first manually filtered version N and TB CM csvs, not significant boiz"
   ]
  },
  {
   "cell_type": "code",
   "execution_count": null,
   "metadata": {},
   "outputs": [],
   "source": [
    "# Read the CSV files, skipping the first row and first column\n",
    "n_df = pd.read_csv('n_CM.csv', skiprows=1).iloc[:, 1:]\n",
    "tb_df = pd.read_csv('tb_CM.csv', skiprows=1).iloc[:, 1:]\n",
    "\n",
    "# Convert all columns to numeric, coercing errors to NaN\n",
    "n_df = n_df.apply(pd.to_numeric, errors='coerce')\n",
    "tb_df = tb_df.apply(pd.to_numeric, errors='coerce')\n",
    "\n",
    "# Drop rows with NaN values\n",
    "n_df = n_df.dropna()\n",
    "tb_df = tb_df.dropna()\n",
    "\n",
    "# Flatten the dataframes into single series\n",
    "n_series = n_df.values.flatten()\n",
    "tb_series = tb_df.values.flatten()\n",
    "\n",
    "# Perform the overall t-test\n",
    "t_stat, p_value = ttest_ind(n_series, tb_series)\n",
    "\n",
    "# Print the overall t-test result\n",
    "print(f\"Overall t-test: t-statistic = {t_stat}, p-value = {p_value}\")"
   ]
  }
 ],
 "metadata": {
  "kernelspec": {
   "display_name": "Python 3",
   "language": "python",
   "name": "python3"
  },
  "language_info": {
   "codemirror_mode": {
    "name": "ipython",
    "version": 3
   },
   "file_extension": ".py",
   "mimetype": "text/x-python",
   "name": "python",
   "nbconvert_exporter": "python",
   "pygments_lexer": "ipython3",
   "version": "3.12.3"
  }
 },
 "nbformat": 4,
 "nbformat_minor": 2
}
